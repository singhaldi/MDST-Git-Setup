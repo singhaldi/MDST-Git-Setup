{
 "cells": [
  {
   "cell_type": "markdown",
   "metadata": {},
   "source": [
    "# ML Challenge (Optional)"
   ]
  },
  {
   "cell_type": "markdown",
   "metadata": {},
   "source": [
    "Train, test, optimize, and analyze the performance of a classification model using a methodology of your choice for the randomly generated moons dataset.\n",
    "\n",
    "You are not being evaluated for the performance of your model. Instead, we are interested in whether you can implement a simple but rigorous ML workflow.\n",
    "\n",
    "Show all of your work in this notebook."
   ]
  },
  {
   "cell_type": "code",
   "execution_count": 33,
   "metadata": {},
   "outputs": [],
   "source": [
    "# you are free to use any package you deem fit\n",
    "import numpy as np\n",
    "import pandas as pd\n",
    "import matplotlib.pyplot as plt\n",
    "from sklearn.model_selection import train_test_split \n",
    "from sklearn.model_selection import GridSearchCV  #good to search optimal hyperparameters\n",
    "from sklearn.svm import SVC\n",
    "from sklearn.metrics import accuracy_score\n",
    "from sklearn.metrics import precision_score\n",
    "from sklearn.metrics import recall_score    \n",
    "from sklearn.metrics import balanced_accuracy_score  \n",
    "from sklearn.metrics import confusion_matrix, classification_report"
   ]
  },
  {
   "cell_type": "markdown",
   "metadata": {},
   "source": [
    "## Dataset"
   ]
  },
  {
   "cell_type": "code",
   "execution_count": 34,
   "metadata": {},
   "outputs": [],
   "source": [
    "# DO NOT MODIFY\n",
    "from sklearn.datasets import make_moons\n",
    "\n",
    "X, Y = make_moons(random_state=42, n_samples=(50, 450), noise=0.25)"
   ]
  },
  {
   "cell_type": "markdown",
   "metadata": {},
   "source": [
    "## Data Visualization"
   ]
  },
  {
   "cell_type": "code",
   "execution_count": 35,
   "metadata": {},
   "outputs": [
    {
     "data": {
      "image/png": "[encoded data removed]",
      "text/plain": [
       "<Figure size 432x288 with 1 Axes>"
      ]
     },
     "metadata": {
      "needs_background": "light"
     },
     "output_type": "display_data"
    }
   ],
   "source": [
    "# before I create the model, I need to learn/experiment with what the data looks like\n",
    "# i.e. is it categorical, numerical, what do the data points look like \n",
    "\n",
    "# according to the sklearn website:\n",
    "# \"Make two interleaving half circles.\"\n",
    "# \"A simple toy dataset to visualize clustering and classification algorithms.\"\n",
    "\n",
    "# after doing some research on the make moons data set, this is how i can visualize it: \n",
    "df = pd.DataFrame(dict(x = X[:,0], y = X[:,1], label = Y))\n",
    "colors = {0: 'blue', 1: 'yellow'}\n",
    "fig, ax = plt.subplots()\n",
    "groups = df.groupby(\"label\")\n",
    "\n",
    "for key, group in groups:\n",
    "    group.plot(ax=ax, kind = \"scatter\",x='x', y='y',label = key, color=colors[key])"
   ]
  },
  {
   "cell_type": "markdown",
   "metadata": {},
   "source": [
    "**Since the data is nonlinear, we can use an SVC (support vector classification) model. I will use the default rbf kernel for training this.**"
   ]
  },
  {
   "cell_type": "markdown",
   "metadata": {},
   "source": [
    "## Training"
   ]
  },
  {
   "cell_type": "code",
   "execution_count": 36,
   "metadata": {},
   "outputs": [],
   "source": [
    "# splitting the data 70/30 train/test split\n",
    "X_train, X_test, y_train, y_test = train_test_split(X, Y, test_size=.3, random_state=42)"
   ]
  },
  {
   "cell_type": "code",
   "execution_count": 37,
   "metadata": {},
   "outputs": [
    {
     "name": "stdout",
     "output_type": "stream",
     "text": [
      "0.9514285714285714\n"
     ]
    }
   ],
   "source": [
    "# training the SVC\n",
    "\n",
    "model1 = SVC(kernel = 'rbf').fit(X_train, y_train)\n",
    "print(model1.score(X_train, y_train))"
   ]
  },
  {
   "cell_type": "markdown",
   "metadata": {},
   "source": [
    "## Testing / Optimization"
   ]
  },
  {
   "cell_type": "code",
   "execution_count": 42,
   "metadata": {},
   "outputs": [
    {
     "name": "stdout",
     "output_type": "stream",
     "text": [
      "Training Accuracy: 0.9514285714285714\n",
      "Test Accuracy: 0.9733333333333334\n",
      "Test Balanced Accuracy: 0.8666666666666667\n",
      "Test Recall: 0.9733333333333334\n",
      "Test Precision: 0.9733333333333334\n",
      "F1-Score: 0.9733333333333334\n",
      "Confusion Matrix: \n",
      "[[ 11   4]\n",
      " [  0 135]]\n",
      "Classification Report: \n",
      "              precision    recall  f1-score   support\n",
      "\n",
      "           0       1.00      0.73      0.85        15\n",
      "           1       0.97      1.00      0.99       135\n",
      "\n",
      "    accuracy                           0.97       150\n",
      "   macro avg       0.99      0.87      0.92       150\n",
      "weighted avg       0.97      0.97      0.97       150\n",
      "\n"
     ]
    }
   ],
   "source": [
    "# testing the SVC\n",
    "\n",
    "y_train_pred = model1.predict(X_train)\n",
    "train_acc = accuracy_score(y_train, y_train_pred)\n",
    "print(\"Training Accuracy:\", train_acc)\n",
    "\n",
    "y_pred = model1.predict(X_test)\n",
    "test_acc = accuracy_score(y_test, y_pred)\n",
    "print(\"Test Accuracy:\", test_acc)\n",
    "\n",
    "balanced_acc = balanced_accuracy_score(y_test, y_pred) \n",
    "print(\"Test Balanced Accuracy:\", balanced_acc)\n",
    "\n",
    "recall = recall_score(y_test, y_pred, average = \"micro\") \n",
    "print(\"Test Recall:\", recall)\n",
    "\n",
    "precision = precision_score(y_test, y_pred, average = \"micro\")\n",
    "print(\"Test Precision:\", precision)\n",
    "\n",
    "print(\"F1-Score:\", (2 * recall * precision)/(recall + precision))\n",
    "\n",
    "print(\"Confusion Matrix: \")\n",
    "print(confusion_matrix(y_test, y_pred))\n",
    "\n",
    "print(\"Classification Report: \")\n",
    "print(classification_report(y_test, y_pred))"
   ]
  },
  {
   "cell_type": "markdown",
   "metadata": {},
   "source": [
    "## Performance Analysis"
   ]
  },
  {
   "cell_type": "markdown",
   "metadata": {},
   "source": [
    "**The training and testing accuracy are both near or above 95%, which is relatively high. The recall tellls us how many actual positives our model captures while the precision tells us how accurate the model is of those predicted positives. In this case, our precision is above a 97%, which is a really high accuracy on predicting the right values/positives. Although further work could be done to refine the model with hyperparameters or testing different models, the testing results tells me that the SVC model may have been a good model to choose as a predictor for our non-linear data.**"
   ]
  }
 ],
 "metadata": {
  "kernelspec": {
   "display_name": "Python 3",
   "language": "python",
   "name": "python3"
  },
  "language_info": {
   "codemirror_mode": {
    "name": "ipython",
    "version": 3
   },
   "file_extension": ".py",
   "mimetype": "text/x-python",
   "name": "python",
   "nbconvert_exporter": "python",
   "pygments_lexer": "ipython3",
   "version": "3.8.8"
  },
  "vscode": {
   "interpreter": {
    "hash": "e78b6b4158d8f577a77be3bef6c4f5889b406541923fa59adc2e6c48950512fc"
   }
  }
 },
 "nbformat": 4,
 "nbformat_minor": 2
}
